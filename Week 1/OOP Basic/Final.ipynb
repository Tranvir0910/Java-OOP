{
 "cells": [
  {
   "cell_type": "markdown",
   "metadata": {},
   "source": [
    "## **Final Keyword**"
   ]
  },
  {
   "cell_type": "markdown",
   "metadata": {},
   "source": [
    "Trong Java, chúng ta sử dụng từ khóa **final** với biến, phương thức và lớp để áp dụng một số ràng buộc. Ví dụ: nếu sử dụng final với\n",
    "\n",
    "- **Biến** - chúng ta không thể thay đổi giá trị của biến\n",
    "\n",
    "- **Phương thức** - chúng ta không thể thực hiện ghi đè phương thức\n",
    "\n",
    "- **Lớp** - chúng ta không thể kế thừa lớp"
   ]
  },
  {
   "cell_type": "markdown",
   "metadata": {},
   "source": [
    "### **final với biến**"
   ]
  },
  {
   "cell_type": "code",
   "execution_count": null,
   "metadata": {
    "vscode": {
     "languageId": "java"
    }
   },
   "outputs": [],
   "source": [
    "class Main {\n",
    "    public static void main(String[] args) {\n",
    "        \n",
    "        // create final variable\n",
    "        int number = 34;\n",
    "        System.out.println(\"Number Value: \" + number);\n",
    "        \n",
    "        // try to change the value of the final variable\n",
    "        number = 24;\n",
    "        System.out.println(\"Updated Number: \" + number);\n",
    "    }\n",
    "}\n",
    "\n",
    "// Number Value: 34\n",
    "// Updated Number: 24"
   ]
  },
  {
   "cell_type": "markdown",
   "metadata": {},
   "source": [
    "Bây giờ, hãy xem điều gì sẽ xảy ra nếu chúng ta đánh dấu biến **number** là **final**."
   ]
  },
  {
   "cell_type": "code",
   "execution_count": null,
   "metadata": {
    "vscode": {
     "languageId": "java"
    }
   },
   "outputs": [],
   "source": [
    "class Main {\n",
    "    public static void main(String[] args) {\n",
    "        \n",
    "        // create final variable\n",
    "        final int number = 34;\n",
    "        System.out.println(\"Number Value: \" + number);\n",
    "        \n",
    "        // change the value of the final variable\n",
    "        number = 24;\n",
    "        System.out.println(\"Updated Number: \" + number);\n",
    "    }\n",
    "}\n",
    "\n",
    "// error: cannot assign a value to final variable number\n",
    "// number = 24;\n",
    "// ^"
   ]
  },
  {
   "cell_type": "markdown",
   "metadata": {},
   "source": [
    "Thông báo lỗi cho biết chúng ta không được phép thay đổi giá trị của biến final.\n",
    "\n",
    "Biến có giá trị không thể thay đổi được gọi là hằng số. Do đó, chúng ta sử dụng từ khóa final để tạo hằng số trong Java."
   ]
  },
  {
   "cell_type": "markdown",
   "metadata": {},
   "source": [
    "### **Final với phương thức**"
   ]
  },
  {
   "cell_type": "markdown",
   "metadata": {},
   "source": [
    "Khi chúng ta sử dụng final với phương thức, các lớp con không thể ghi đè lên phương thức đó."
   ]
  },
  {
   "cell_type": "code",
   "execution_count": null,
   "metadata": {
    "vscode": {
     "languageId": "java"
    }
   },
   "outputs": [],
   "source": [
    "class Engine {\n",
    "    \n",
    "    // create a final method\n",
    "    final void setEngine() {\n",
    "        System.out.println(\"Four-Stroke Engine\");\n",
    "    }\n",
    "}\n",
    " \n",
    "class PetrolEngine extends Engine {\n",
    "    \n",
    "    // try to override setEngine()\n",
    "    void setEngine() {\n",
    "        System.out.println(\"Four-Stroke Petrol Engine\");\n",
    "    }\n",
    "}\n",
    " \n",
    "class Main {\n",
    "    public static void main(String[] args) {\n",
    "        \n",
    "        // object of subclass\n",
    "        PetrolEngine obj = new PetrolEngine();\n",
    "        \n",
    "        // access the overridden method\n",
    "        obj.setEngine();\n",
    "    }\n",
    "}"
   ]
  },
  {
   "cell_type": "markdown",
   "metadata": {},
   "source": [
    "Trong ví dụ trên, chúng ta đã tạo phương thức **final setEngine()** bên trong **lớp Engine**."
   ]
  },
  {
   "cell_type": "code",
   "execution_count": null,
   "metadata": {
    "vscode": {
     "languageId": "java"
    }
   },
   "outputs": [],
   "source": [
    "final void setEngine() {\n",
    "    System.out.println(\"Four-Stroke Engine\");\n",
    "}"
   ]
  },
  {
   "cell_type": "markdown",
   "metadata": {},
   "source": [
    "Ở đây, **lớp PetrolEngine kế thừa Engine và ghi đè phương thức setEngine()** bên trong nó."
   ]
  },
  {
   "cell_type": "code",
   "execution_count": null,
   "metadata": {
    "vscode": {
     "languageId": "java"
    }
   },
   "outputs": [],
   "source": [
    "void setEngine() {\n",
    "    System.out.println(\"Four-Stroke Petrol Engine\");\n",
    "}"
   ]
  },
  {
   "cell_type": "markdown",
   "metadata": {},
   "source": [
    "Bây giờ, nếu chạy chương trình trên, chúng ta sẽ gặp lỗi."
   ]
  },
  {
   "cell_type": "code",
   "execution_count": null,
   "metadata": {
    "vscode": {
     "languageId": "java"
    }
   },
   "outputs": [],
   "source": [
    "error: setEngine() in PetrolEngine cannot override setEngine() in Engine\n",
    "    void setEngine() {\n",
    "         ^\n",
    "  overridden method is final"
   ]
  },
  {
   "cell_type": "markdown",
   "metadata": {},
   "source": [
    "### **Final với lớp**"
   ]
  },
  {
   "cell_type": "code",
   "execution_count": null,
   "metadata": {
    "vscode": {
     "languageId": "java"
    }
   },
   "outputs": [],
   "source": [
    "//create a final class\n",
    "final class Person {\n",
    " \n",
    "    void getDetails() {\n",
    "        System.out.println(\"Person details\");\n",
    "    }\n",
    "}\n",
    " \n",
    "// inherit the final class\n",
    "// error\n",
    "class Student extends Person {\n",
    " \n",
    "    // overridden method\n",
    "    void getDetails() {\n",
    " \n",
    "        System.out.println(\"Student Details\");\n",
    "    }\n",
    "}\n",
    " \n",
    "class Main {\n",
    " \n",
    "    public static void main(String[] args) {\n",
    " \n",
    "        Student s1 = new Student();\n",
    "        s1.getDetails();\n",
    "    }\n",
    "}"
   ]
  },
  {
   "cell_type": "markdown",
   "metadata": {},
   "source": [
    "Khi chạy chương trình, chúng ta sẽ gặp lỗi:"
   ]
  },
  {
   "cell_type": "code",
   "execution_count": null,
   "metadata": {
    "vscode": {
     "languageId": "java"
    }
   },
   "outputs": [],
   "source": [
    "Main.java:11: error: cannot inherit from final Person\n",
    "class Student extends Person {\n",
    "                      ^\n",
    "1 error"
   ]
  }
 ],
 "metadata": {
  "language_info": {
   "name": "python"
  },
  "orig_nbformat": 4
 },
 "nbformat": 4,
 "nbformat_minor": 2
}
