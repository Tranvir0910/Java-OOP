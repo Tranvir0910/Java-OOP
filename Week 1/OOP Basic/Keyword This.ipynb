{
 "cells": [
  {
   "cell_type": "markdown",
   "metadata": {},
   "source": [
    "## **This Keyword**"
   ]
  },
  {
   "cell_type": "markdown",
   "metadata": {},
   "source": [
    "Trong Java, ta sử dụng từ khóa **this** để tham chiếu đến đối tượng hiện tại."
   ]
  },
  {
   "cell_type": "code",
   "execution_count": null,
   "metadata": {
    "vscode": {
     "languageId": "groovy"
    }
   },
   "outputs": [],
   "source": [
    "class Student {\n",
    "    \n",
    "    String name;\n",
    "    \n",
    "    void displayName() {\n",
    "        System.out.println(\"Name using this: \" + this.name);\n",
    "    }\n",
    "    \n",
    "    public static void main(String[] args) {\n",
    "        Student student1 = new Student();\n",
    "        \n",
    "        student1.name = \"Rosie\";\n",
    "        student1.displayName();\n",
    "        \n",
    "        // print name using object\n",
    "        System.out.println(\"Name using object: \" + student1.name);\n",
    "    }\n",
    "}"
   ]
  },
  {
   "cell_type": "code",
   "execution_count": null,
   "metadata": {
    "vscode": {
     "languageId": "powershell"
    }
   },
   "outputs": [],
   "source": [
    "Đầu ra\n",
    "\n",
    "Name using this: Rosie\n",
    "Name using object: Rosie"
   ]
  },
  {
   "cell_type": "markdown",
   "metadata": {},
   "source": [
    "Trong ví dụ trên, bạn có thể thấy cả **student1.name** và **this.name** đều in ra cùng một kết quả là **Rosie**."
   ]
  },
  {
   "cell_type": "markdown",
   "metadata": {},
   "source": [
    "Về cơ bản, khi chúng ta gọi phương thức **displayName()** bằng cách sử dụng đối tượng **student1**, lệnh gọi sẽ tham chiếu đến đối tượng hiện tại, **student1**.\n",
    "\n",
    "Do đó, ta nhận được đầu ra là **Rosie** (**giá trị của name cho student1**).\n",
    "\n",
    "Tương tự, nếu ta gọi phương thức với một đối tượng khác (giả sử là **student2**), **this.name** sẽ in giá trị của **name** cho **student2**."
   ]
  },
  {
   "cell_type": "code",
   "execution_count": null,
   "metadata": {
    "vscode": {
     "languageId": "groovy"
    }
   },
   "outputs": [],
   "source": [
    "class Student {\n",
    "    \n",
    "    String name;\n",
    "    \n",
    "    void displayName() {\n",
    "        System.out.println(\"Name using this: \" + this.name);\n",
    "    }\n",
    "    \n",
    "    public static void main(String[] args) {\n",
    "        \n",
    "        // create two objects\n",
    "        Student student1 = new Student();\n",
    "        Student student2 = new Student();\n",
    "        \n",
    "        // method call with the student1 object\n",
    "        student1.name = \"Rosie\";\n",
    "        student1.displayName();\n",
    "        \n",
    "        // method call with the student2 object\n",
    "        student2.name = \"Ramsey\";\n",
    "        student2.displayName();\n",
    "        \n",
    "    }\n",
    "}"
   ]
  },
  {
   "cell_type": "markdown",
   "metadata": {},
   "source": [
    "**Đầu ra**\n",
    "\n",
    "    Name using this: Rosie\n",
    "    Name using this: Ramsey\n",
    "\n",
    "\n",
    "**Ở đây, đối với lệnh gọi phương thức**\n",
    "\n",
    "- **student1.displayName()** - **this** tham chiếu đến đối tượng hiện tại là **student1**.\n",
    "- **student2.displayName()** - **this** tham chiếu đến đối tượng hiện tại là **student2**."
   ]
  }
 ],
 "metadata": {
  "language_info": {
   "name": "python"
  },
  "orig_nbformat": 4
 },
 "nbformat": 4,
 "nbformat_minor": 2
}
