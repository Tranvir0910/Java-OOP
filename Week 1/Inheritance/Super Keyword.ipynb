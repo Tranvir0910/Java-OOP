{
 "cells": [
  {
   "cell_type": "markdown",
   "metadata": {},
   "source": [
    "## **Super**"
   ]
  },
  {
   "cell_type": "code",
   "execution_count": null,
   "metadata": {
    "vscode": {
     "languageId": "java"
    }
   },
   "outputs": [],
   "source": [
    "class Polygon {\n",
    "    void displayInfo() {\n",
    "        System.out.println(\"A polygon is a two dimensional shape with straight lines.\");\n",
    "    }\n",
    " \n",
    "    int getPerimeter(int[] sides) {\n",
    "        int perimeter = 0;\n",
    "        // find sum of all sides\n",
    "        for (int side : sides) {\n",
    "            perimeter = perimeter + side;\n",
    "        }\n",
    " \n",
    "        return perimeter;\n",
    "    }\n",
    "}\n",
    " \n",
    "class Triangle extends Polygon {\n",
    "    void displayInfo() {\n",
    "        System.out.println(\"A triangle is a polygon with 3 sides.\");\n",
    "    }\n",
    "}\n",
    " \n",
    "class Main {\n",
    "    public static void main(String[] args) {\n",
    "        \n",
    "        // create an object of Triangle\n",
    "        Triangle t1 = new Triangle();\n",
    " \n",
    "        // sides of triangle\n",
    "        int[] triangleSides = {8, 5, 11};\n",
    " \n",
    "        // call getPerimeter using t1\n",
    "        int perimeter = t1.getPerimeter(triangleSides);\n",
    "        System.out.println(\"Triangle Perimeter: \" + perimeter);\n",
    " \n",
    "        // call displayInfo() method\n",
    "        t1.displayInfo();\n",
    "    }\n",
    "}"
   ]
  },
  {
   "cell_type": "markdown",
   "metadata": {},
   "source": [
    "Giả sử chúng ta cũng muốn truy cập phương thức của lớp Parent thì phải làm như thế nào?\n",
    "\n",
    "Khi đó, chúng ta có thể sử dụng **từ khóa super**. Từ khóa super **cho phép ta truy cập phương thức của lớp cha từ lớp con**."
   ]
  },
  {
   "cell_type": "markdown",
   "metadata": {},
   "source": [
    "### **Super + Constructor**"
   ]
  },
  {
   "cell_type": "code",
   "execution_count": null,
   "metadata": {
    "vscode": {
     "languageId": "java"
    }
   },
   "outputs": [],
   "source": [
    "class Animal {\n",
    " \n",
    "    // constructor of class Animal\n",
    "    Animal() {\n",
    "        System.out.println(\"I am an animal\");\n",
    "    }\n",
    "}\n",
    " \n",
    "class Dog extends Animal {\n",
    " \n",
    "    // constructor of class Dog\n",
    "    Dog() {\n",
    "        // calls the constructor of superclass\n",
    "        super();\n",
    "        System.out.println(\"I am a dog\");\n",
    "    }\n",
    "}\n",
    " \n",
    "class Main {\n",
    " \n",
    "    public static void main(String[] args) {\n",
    "        Dog dog1 = new Dog();\n",
    "    }\n",
    "}\n",
    "\n",
    "// I am an animal\n",
    "// I am a dog"
   ]
  },
  {
   "cell_type": "markdown",
   "metadata": {},
   "source": [
    "Ở đây, **super()** gọi hàm khởi tạo của lớp Animal. Khi chúng ta tạo đối tượng Dog, hàm khởi tạo của lớp con được gọi và\n",
    "\n",
    "- gọi hàm khởi tạo của lớp Animal và in ra **I am an animal**\n",
    "\n",
    "- sau đó thực thi câu lệnh để in **I am a dog**"
   ]
  },
  {
   "cell_type": "markdown",
   "metadata": {},
   "source": [
    "**super() phải là câu lệnh đầu tiên bên trong hàm khởi tạo của lớp con khi gọi hàm khởi tạo của lớp cha. Nếu không, chương trình sẽ báo lỗi.**"
   ]
  },
  {
   "cell_type": "code",
   "execution_count": null,
   "metadata": {
    "vscode": {
     "languageId": "java"
    }
   },
   "outputs": [],
   "source": [
    "class Animal {\n",
    " \n",
    "    // constructor of class Animal\n",
    "    Animal() {\n",
    "        System.out.println(\"I am an animal\");\n",
    "    }\n",
    "}\n",
    " \n",
    "class Dog extends Animal {\n",
    " \n",
    "    // constructor of class Dog\n",
    "    Dog() {       \n",
    "        System.out.println(\"I am a dog\");\n",
    "        \n",
    "        // error code\n",
    "        super();\n",
    "    }\n",
    "}\n",
    " \n",
    "class Main {\n",
    " \n",
    "    public static void main(String[] args) {\n",
    "        Dog dog1 = new Dog();\n",
    "    }\n",
    "}\n",
    "\n",
    "// Main.java:17: error: call to super must be first statement in constructor\n",
    "// super();\n",
    "//              ^\n",
    "// 1 error"
   ]
  },
  {
   "cell_type": "markdown",
   "metadata": {},
   "source": [
    "### **Example**"
   ]
  },
  {
   "cell_type": "code",
   "execution_count": null,
   "metadata": {
    "vscode": {
     "languageId": "java"
    }
   },
   "outputs": [],
   "source": [
    "class Polygon {\n",
    "    void displayInfo() {\n",
    "        System.out.println(\"A polygon is a two dimensional shape with straight lines.\");\n",
    "    }\n",
    " \n",
    "    int getPerimeter(int[] sides) {\n",
    "        int perimeter = 0;\n",
    "        // find sum of all sides\n",
    "        for (int side : sides) {\n",
    "            perimeter = perimeter + side;\n",
    "        }\n",
    " \n",
    "        return perimeter;\n",
    "    }\n",
    "}\n",
    " \n",
    "class Triangle extends Polygon {\n",
    "    void displayInfo() {\n",
    "        super.displayInfo();\n",
    "        System.out.println(\"A triangle is a polygon with 3 sides.\");\n",
    "    }\n",
    "}\n",
    " \n",
    "class Main {\n",
    "    public static void main(String[] args) {\n",
    "        \n",
    "        // create an object of Triangle\n",
    "        Triangle t1 = new Triangle();\n",
    " \n",
    "        // sides of triangle\n",
    "        int[] triangleSides = {8, 5, 11};\n",
    " \n",
    "        // call getPerimeter using t1\n",
    "        int perimeter = t1.getPerimeter(triangleSides);\n",
    "        System.out.println(\"Triangle Perimeter: \" + perimeter);\n",
    " \n",
    "        // call displayInfo() method\n",
    "        t1.displayInfo();\n",
    "    }\n",
    "}"
   ]
  },
  {
   "cell_type": "code",
   "execution_count": null,
   "metadata": {
    "vscode": {
     "languageId": "powershell"
    }
   },
   "outputs": [],
   "source": [
    "Triangle Perimeter: 24\n",
    "A polygon is a two dimensional shape with straight lines.\n",
    "A triangle is a polygon with 3 sides."
   ]
  }
 ],
 "metadata": {
  "language_info": {
   "name": "python"
  },
  "orig_nbformat": 4
 },
 "nbformat": 4,
 "nbformat_minor": 2
}
