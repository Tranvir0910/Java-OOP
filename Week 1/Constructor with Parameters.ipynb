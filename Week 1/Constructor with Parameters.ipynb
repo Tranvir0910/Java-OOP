{
 "cells": [
  {
   "cell_type": "markdown",
   "metadata": {},
   "source": [
    "## **Constructor with Parameters**"
   ]
  },
  {
   "cell_type": "markdown",
   "metadata": {},
   "source": [
    "Cho đến nay, chúng ta đã gán các giá trị trường bên trong phương thức main như sau:\n",
    "\n"
   ]
  },
  {
   "cell_type": "code",
   "execution_count": null,
   "metadata": {
    "vscode": {
     "languageId": "plaintext"
    }
   },
   "outputs": [],
   "source": [
    "student1.name = \"Jack\";\n",
    "student1.score = 78;"
   ]
  },
  {
   "cell_type": "markdown",
   "metadata": {},
   "source": [
    "Trong lập trình Java, chúng ta chủ yếu sử dụng hàm khởi tạo để gán giá trị cho các trường.\n",
    "\n",
    "Như đã đề cập trước đó, hàm khởi tạo có tham số có thể nhận một vài đối số."
   ]
  },
  {
   "cell_type": "code",
   "execution_count": null,
   "metadata": {
    "vscode": {
     "languageId": "java"
    }
   },
   "outputs": [],
   "source": [
    "class Student {\n",
    "\n",
    "    // fields\n",
    "    String name;\n",
    "    int score;\n",
    "\n",
    "    // parameterized constructor\n",
    "    Student(String name, int score) {\n",
    "        ...\n",
    "    }\n",
    "}"
   ]
  },
  {
   "cell_type": "markdown",
   "metadata": {},
   "source": [
    "**Student()** là một hàm khởi tạo có tham số nhận hai đối số: **name** và **score**."
   ]
  },
  {
   "cell_type": "markdown",
   "metadata": {},
   "source": [
    "### **Gọi hàm khởi tạo có tham số**"
   ]
  },
  {
   "cell_type": "code",
   "execution_count": null,
   "metadata": {
    "vscode": {
     "languageId": "java"
    }
   },
   "outputs": [],
   "source": [
    "// call constructor\n",
    "Student student1 = new Student(\"Jack\", 78);\n",
    "Student student2 = new Student(\"Rosa\", 32);"
   ]
  },
  {
   "cell_type": "markdown",
   "metadata": {},
   "source": [
    "Trong đó\n",
    "\n",
    "- Đối với **student1**, **name** là **Jack** và **score** là 78\n",
    "\n",
    "- Đối với **student2**, **name** là **Rosa** và **score** là 32"
   ]
  },
  {
   "cell_type": "code",
   "execution_count": null,
   "metadata": {
    "vscode": {
     "languageId": "java"
    }
   },
   "outputs": [],
   "source": [
    "// Student Class\n",
    "class Student {\n",
    "    \n",
    "    String name;\n",
    "    int score;\n",
    "    \n",
    "    Student(String name, int score) {\n",
    "        this.name = name;\n",
    "        this.score = score;\n",
    "    }\n",
    "}\n",
    " \n",
    "// Main Class\n",
    "class Main {\n",
    "    public static void main(String[] args) {\n",
    "        \n",
    "        // create objects\n",
    "        Student student1 = new Student(\"Jack\", 78);\n",
    "        Student student2 = new Student(\"Rosa\", 32);\n",
    "        \n",
    "        // print fields for student1\n",
    "        System.out.println(\"---First Student---\");\n",
    "        System.out.println(\"Name: \" + student1.name);\n",
    "        System.out.println(\"Score: \" + student1.score);\n",
    "        \n",
    "        // print fields for student2\n",
    "        System.out.println(\"---Second Student---\");\n",
    "        System.out.println(\"Name: \" + student2.name);\n",
    "        System.out.println(\"Score: \" + student2.name);\n",
    "    }\n",
    "}"
   ]
  },
  {
   "cell_type": "markdown",
   "metadata": {},
   "source": [
    "Output"
   ]
  },
  {
   "cell_type": "code",
   "execution_count": null,
   "metadata": {
    "vscode": {
     "languageId": "java"
    }
   },
   "outputs": [],
   "source": [
    "---First Student---\n",
    "Name: Jack\n",
    "Score: 78\n",
    "---Second Student---\n",
    "Name: Rosa\n",
    "Score: Rosa"
   ]
  },
  {
   "cell_type": "markdown",
   "metadata": {},
   "source": [
    "Trong ví dụ trên, chúng ta sử dụng hàm khởi tạo có tham số để gán các giá trị của trường **name** và **score**."
   ]
  },
  {
   "cell_type": "code",
   "execution_count": null,
   "metadata": {
    "vscode": {
     "languageId": "java"
    }
   },
   "outputs": [],
   "source": [
    "Student(String name, int score) {\n",
    "    this.name = name;\n",
    "    this.score = score;\n",
    "}"
   ]
  },
  {
   "cell_type": "markdown",
   "metadata": {},
   "source": [
    "**this** tham chiếu đến đối tượng hiện tại, vì vậy trong khi tạo các đối tượng:"
   ]
  },
  {
   "cell_type": "markdown",
   "metadata": {},
   "source": [
    "**Student student1 = new Student(\"Jack\", 78);**\n",
    "\n",
    "- **this** đề cập đến **student1**.\n",
    "\n",
    "- đối số: **Jack** và **78** được gán cho **student1.name** và **student2.score**.\n",
    "\n",
    "**Student student1 = new Student(\"Rosa\", 32);**\n",
    "\n",
    "- **this** đề cập đến **student2**.\n",
    "\n",
    "- đối số: **Rosa** và 32 được gán cho **student2.name** và **student2.score**."
   ]
  }
 ],
 "metadata": {
  "language_info": {
   "name": "python"
  },
  "orig_nbformat": 4
 },
 "nbformat": 4,
 "nbformat_minor": 2
}
