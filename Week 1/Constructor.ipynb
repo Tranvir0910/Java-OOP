{
 "cells": [
  {
   "cell_type": "markdown",
   "metadata": {},
   "source": [
    "## **Constructor**"
   ]
  },
  {
   "cell_type": "markdown",
   "metadata": {},
   "source": [
    "### **Constructor in Java**"
   ]
  },
  {
   "cell_type": "markdown",
   "metadata": {},
   "source": [
    "Trong Java, hàm khởi tạo **tương tự như phương thức**, nhưng nó **không có kiểu trả về** và có **cùng tên với lớp**."
   ]
  },
  {
   "cell_type": "code",
   "execution_count": null,
   "metadata": {
    "vscode": {
     "languageId": "cpp"
    }
   },
   "outputs": [],
   "source": [
    "class Student {\n",
    " \n",
    "    // constructor\n",
    "    Student() {\n",
    "        ...\n",
    "    }\n",
    " \n",
    "    // method\n",
    "    void checkName() {\n",
    "        ...\n",
    "    }\n",
    "}"
   ]
  },
  {
   "cell_type": "markdown",
   "metadata": {},
   "source": [
    "- **Student()** là hàm khởi tạo.\n",
    "\n",
    "- **checkName()** là phương thức.\n",
    "\n",
    "Bạn có thể thấy rằng **hàm khởi tạo không có kiểu trả** về và **có cùng tên với lớp (Student)**."
   ]
  },
  {
   "cell_type": "markdown",
   "metadata": {},
   "source": [
    "Tương tự như phương thức, chúng ta cần gọi hàm khởi tạo để thực thi code bên trong nó."
   ]
  },
  {
   "cell_type": "code",
   "execution_count": null,
   "metadata": {
    "vscode": {
     "languageId": "groovy"
    }
   },
   "outputs": [],
   "source": [
    "class Student {\n",
    " \n",
    "    // constructor\n",
    "    Student() {\n",
    "        System.out.println(\"Calling Constructor\");\n",
    "    }\n",
    "}\n",
    "\n",
    "class Main {\n",
    "    public static void main(String[] args) {\n",
    "        \n",
    "        // create an object of Student\n",
    "        // this calls the constructor\n",
    "        Student student1 = new Student();\n",
    "        \n",
    "    }\n",
    "}"
   ]
  },
  {
   "cell_type": "code",
   "execution_count": null,
   "metadata": {
    "vscode": {
     "languageId": "powershell"
    }
   },
   "outputs": [],
   "source": [
    "Output:\n",
    "\n",
    "Calling Constructor"
   ]
  },
  {
   "cell_type": "markdown",
   "metadata": {},
   "source": [
    "### **Default Constructor**"
   ]
  },
  {
   "cell_type": "code",
   "execution_count": null,
   "metadata": {
    "vscode": {
     "languageId": "java"
    }
   },
   "outputs": [],
   "source": [
    "class Student {\n",
    "    \n",
    "    int marks;\n",
    "    \n",
    "    public static void main(String[] args) {\n",
    "        \n",
    "        // Call Default Constructor\n",
    "        Student student1 = new Student();\n",
    "        System.out.println(\"Marks: \" + student1.marks);\n",
    "    }\n",
    "}"
   ]
  },
  {
   "cell_type": "markdown",
   "metadata": {},
   "source": [
    "Ở trên, ta chưa gán bất kỳ giá trị nào cho biến **marks** nhưng vẫn nhận được giá trị **0**.\n",
    "\n",
    "Đó là bởi vì khi chúng ta tạo đối tượng\n",
    "\n",
    "**Student student1 = new Student();**\n",
    "\n",
    "Một hàm khởi tạo mặc định được tạo, gán giá trị nguyên mặc định là 0 cho **marks**."
   ]
  },
  {
   "cell_type": "code",
   "execution_count": null,
   "metadata": {
    "vscode": {
     "languageId": "java"
    }
   },
   "outputs": [],
   "source": [
    "class Student {\n",
    "    \n",
    "    int marks;\n",
    "    \n",
    "    // constructor\n",
    "    Student() {\n",
    "        marks = 0;\n",
    "    }\n",
    "    \n",
    "    public static void main(String[] args) {\n",
    "        \n",
    "        Student student1 = new Student();\n",
    "        System.out.println(\"Marks: \" + student1.marks);\n",
    "    }\n",
    "}\n",
    " \n",
    "// Output\n",
    "// Marks: 0"
   ]
  },
  {
   "cell_type": "markdown",
   "metadata": {},
   "source": [
    "### **Types of Constructors**"
   ]
  },
  {
   "cell_type": "markdown",
   "metadata": {},
   "source": [
    "**1. Hàm khởi tạo mặc định**"
   ]
  },
  {
   "cell_type": "markdown",
   "metadata": {},
   "source": [
    "\n",
    "\n",
    "Nếu chúng ta chưa định nghĩa hàm khởi tạo bên trong lớp, Java sẽ tự động tạo một hàm khởi tạo trong khi tạo đối tượng của lớp.\n",
    "\n"
   ]
  },
  {
   "cell_type": "markdown",
   "metadata": {},
   "source": [
    "**2. Hàm khởi tạo không có đối số**"
   ]
  },
  {
   "cell_type": "code",
   "execution_count": null,
   "metadata": {
    "vscode": {
     "languageId": "java"
    }
   },
   "outputs": [],
   "source": [
    "class Student {\n",
    " \n",
    "    Student() {\n",
    "        System.out.println(\"Calling the Constructor\");\n",
    "    }\n",
    " \n",
    "    public static void main(String[] args) {\n",
    "        Student student1 = new Student();\n",
    "    }\n",
    "}\n",
    " \n",
    "// Output: Calling the Constructor"
   ]
  },
  {
   "cell_type": "markdown",
   "metadata": {},
   "source": [
    "Ở đây, **Student()** là hàm khởi tạo không có đối số."
   ]
  }
 ],
 "metadata": {
  "language_info": {
   "name": "python"
  },
  "orig_nbformat": 4
 },
 "nbformat": 4,
 "nbformat_minor": 2
}
