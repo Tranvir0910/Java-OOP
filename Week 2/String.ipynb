{
 "cells": [
  {
   "cell_type": "markdown",
   "metadata": {},
   "source": [
    "## **String**"
   ]
  },
  {
   "cell_type": "markdown",
   "metadata": {},
   "source": [
    "    java.lang.Object\n",
    "    \n",
    "    java.lang.String"
   ]
  },
  {
   "cell_type": "markdown",
   "metadata": {},
   "source": [
    "Class **String** cung cấp các phương thức để truy cập một chuỗi các ký tự có độ dài bất kỳ."
   ]
  },
  {
   "cell_type": "code",
   "execution_count": null,
   "metadata": {},
   "outputs": [],
   "source": [
    "// Example\n",
    "\n",
    "String s = \"colorful\";"
   ]
  },
  {
   "cell_type": "markdown",
   "metadata": {},
   "source": [
    "### **Methods**"
   ]
  },
  {
   "cell_type": "markdown",
   "metadata": {},
   "source": [
    "**.equals(other)** \n",
    "\n",
    "Trả về **true** nếu **chuỗi này có cùng các ký tự và theo cùng thứ tự với chuỗi khác**."
   ]
  },
  {
   "cell_type": "code",
   "execution_count": null,
   "metadata": {},
   "outputs": [],
   "source": [
    "s.equals(\"Colorful\") // true.\n",
    "s.equals(\"colorful\") // false."
   ]
  },
  {
   "cell_type": "markdown",
   "metadata": {},
   "source": [
    "**.equalsIgnoreCase(other)**\n",
    "\n",
    "Trả về **true** nếu **chuỗi này có cùng các ký tự và theo cùng thứ tự với chuỗi khác, bỏ qua phân biệt chữ hoa và thường**."
   ]
  },
  {
   "cell_type": "code",
   "execution_count": null,
   "metadata": {},
   "outputs": [],
   "source": [
    "s.equalsIgnoreCase(\"Colorluf\") // false.\n",
    "s.equalsIgnoreCase(\"colorful\") // true."
   ]
  },
  {
   "cell_type": "markdown",
   "metadata": {},
   "source": [
    "**.length()**\n",
    "\n",
    "Trả về số lượng ký tự trong chuỗi."
   ]
  },
  {
   "cell_type": "code",
   "execution_count": null,
   "metadata": {},
   "outputs": [],
   "source": [
    "s.length() // 8.\n",
    "\"\".length() // 0."
   ]
  },
  {
   "cell_type": "markdown",
   "metadata": {},
   "source": [
    "**.indexOf(str, startIndex)** \n",
    "\n",
    "Trả về **chỉ số xuất hiện đầu tiên của chuỗi con str trong chuỗi gốc**, bắt đầu tìm kiếm từ vị trí **startIndex**. **Trả về -1 nếu không tìm thấy**."
   ]
  },
  {
   "cell_type": "code",
   "execution_count": null,
   "metadata": {},
   "outputs": [],
   "source": [
    "s.indexOf(\"l\", 3) // 7.\n",
    "s.indexOf(\"o\", 1) // 1."
   ]
  },
  {
   "cell_type": "markdown",
   "metadata": {},
   "source": [
    "**.substring(startIndex)** \n",
    "\n",
    "**Trả về chuỗi con** bắt đầu từ chỉ số **startIndex đến cuối** chuỗi gốc."
   ]
  },
  {
   "cell_type": "code",
   "execution_count": null,
   "metadata": {},
   "outputs": [],
   "source": [
    "s.substring(1) // \"olorful\".\n",
    "s.substring(5) // \"ful\"."
   ]
  },
  {
   "cell_type": "markdown",
   "metadata": {},
   "source": [
    "**.substring(startIndex, endIndex)** \n",
    "\n",
    "**Trả về chuỗi con** bắt đầu từ chỉ số **startIndex và kết thúc trước chỉ số endIndex** (không bao gồm ký tự tại endIndex)."
   ]
  },
  {
   "cell_type": "code",
   "execution_count": null,
   "metadata": {},
   "outputs": [],
   "source": [
    "s.substring(1, 2) // \"o\".\n",
    "s.substring(1, 4) // \"olo\"."
   ]
  },
  {
   "cell_type": "markdown",
   "metadata": {},
   "source": [
    "**.toLowerCase()**\n",
    "\n",
    "Trả về chuỗi mới với các ký tự được chuyển thành chữ thường."
   ]
  },
  {
   "cell_type": "code",
   "execution_count": null,
   "metadata": {},
   "outputs": [],
   "source": [
    "s.toLowerCase() // \"colorful\"."
   ]
  },
  {
   "cell_type": "markdown",
   "metadata": {},
   "source": [
    "**.toUpperCase()**\n",
    "\n",
    "Trả về chuỗi mới với các ký tự được chuyển thành chữ hoa."
   ]
  },
  {
   "cell_type": "code",
   "execution_count": null,
   "metadata": {},
   "outputs": [],
   "source": [
    "s.toUpperCase() // \"COLORFUL\"."
   ]
  },
  {
   "cell_type": "markdown",
   "metadata": {},
   "source": [
    "**.startsWith(prefix)**\n",
    "\n",
    "Trả về **true** nếu chuỗi **bắt đầu bằng tiền tố (prefix)** cho trước."
   ]
  },
  {
   "cell_type": "code",
   "execution_count": null,
   "metadata": {},
   "outputs": [],
   "source": [
    "s.startsWith(\"Color\") // true.\n",
    "s.startsWith(\"cool\") // false."
   ]
  },
  {
   "cell_type": "markdown",
   "metadata": {},
   "source": [
    "**.endsWith(suffix)**\n",
    "\n",
    "Trả về **true** nếu chuỗi **kết thúc bằng hậu tố (suffix)** cho trước. "
   ]
  },
  {
   "cell_type": "code",
   "execution_count": null,
   "metadata": {},
   "outputs": [],
   "source": [
    "s.endsWith(\"ful\") // true\n",
    "s.endsWith(\"fool\") // false"
   ]
  }
 ],
 "metadata": {
  "kernelspec": {
   "display_name": "Java",
   "language": "java",
   "name": "java"
  },
  "language_info": {
   "codemirror_mode": "java",
   "file_extension": ".jshell",
   "mimetype": "text/x-java-source",
   "name": "java",
   "pygments_lexer": "java",
   "version": "3.11.4"
  },
  "orig_nbformat": 4
 },
 "nbformat": 4,
 "nbformat_minor": 2
}
