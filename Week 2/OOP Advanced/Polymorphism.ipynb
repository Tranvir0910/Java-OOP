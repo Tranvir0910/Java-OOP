{
 "cells": [
  {
   "cell_type": "markdown",
   "metadata": {},
   "source": [
    "## **Polymorphism**"
   ]
  },
  {
   "cell_type": "markdown",
   "metadata": {},
   "source": [
    "Đa hình chỉ đơn giản là **có nhiều hình thái khác nhau**. Tức là c**ùng một thực thể (phương thức hoặc toán tử) có thể thực hiện các thao tác khác nhau** trong những tình huống khác nhau."
   ]
  },
  {
   "cell_type": "code",
   "execution_count": null,
   "metadata": {
    "vscode": {
     "languageId": "java"
    }
   },
   "outputs": [],
   "source": [
    "class Main {\n",
    "    public static void main(String[] args) {\n",
    "        \n",
    "        // use + to add two numbers\n",
    "        int result = 5 + 1;\n",
    "        System.out.println(\"Sum: \" + result);\n",
    " \n",
    "        // use + to join two strings\n",
    "        String joinedString = \"Hello \" + \"World\";\n",
    "        System.out.println(\"Joined String: \" + joinedString);\n",
    "    }\n",
    "}"
   ]
  },
  {
   "cell_type": "markdown",
   "metadata": {},
   "source": [
    "- 5 + 1 - cộng hai số\n",
    "\n",
    "- \"Hello \" + \"World\" - nối hai chuỗi\n",
    "\n",
    "Ở đây, toán tử **+** có hai dạng khác nhau. Đó là một ví dụ về Tính đa hình."
   ]
  },
  {
   "cell_type": "markdown",
   "metadata": {},
   "source": [
    "### **Polymorphism + Override**"
   ]
  },
  {
   "cell_type": "markdown",
   "metadata": {},
   "source": [
    "Trong trường hợp này, chúng ta có thể truy cập riêng biệt các phương thức của lớp cha và lớp con bằng cách sử dụng các đối tượng tương ứng."
   ]
  },
  {
   "cell_type": "code",
   "execution_count": null,
   "metadata": {
    "vscode": {
     "languageId": "java"
    }
   },
   "outputs": [],
   "source": [
    "class Animal {\n",
    "    void makeSound() {\n",
    "        System.out.println(\"Animal Sound\");\n",
    "    }\n",
    "}\n",
    " \n",
    "class Dog extends Animal {\n",
    " \n",
    "    // override the same method of Animal\n",
    "    void makeSound() {\n",
    "        System.out.println(\"Woof Woof\");\n",
    "    }\n",
    "}\n",
    " \n",
    "class Main {\n",
    "    public static void main(String[] args) {\n",
    " \n",
    "        // access method of subclass\n",
    "        Dog dog1 = new Dog();\n",
    "        dog1.makeSound();\n",
    " \n",
    "        // access method of superclass\n",
    "        Animal animal1 = new Animal();\n",
    "        animal1.makeSound();\n",
    "    }\n",
    "}\n",
    "\n",
    "// Woof Woof\n",
    "// Animal Sound"
   ]
  },
  {
   "cell_type": "markdown",
   "metadata": {},
   "source": [
    "### **Polymorphism + Nạp chồng phương thức**"
   ]
  },
  {
   "cell_type": "code",
   "execution_count": null,
   "metadata": {
    "vscode": {
     "languageId": "java"
    }
   },
   "outputs": [],
   "source": [
    "class Addition {\n",
    "    \n",
    "    // method with two parameters\n",
    "    void add(int number1, int number2) {\n",
    "        int sum = number1 + number2;\n",
    "        System.out.println(\"Sum of 2 digits: \" + sum);\n",
    "    }\n",
    "    \n",
    "    // method with 3 parameters\n",
    "    void add(int number1, int number2, int number3) {\n",
    "        int sum = number1 + number2 + number3;\n",
    "        System.out.println(\"Sum of 3 digits: \" + sum);\n",
    "    }\n",
    "}\n",
    " \n",
    "class Main {\n",
    "    public static void main(String[] args) {\n",
    "        \n",
    "        Addition obj = new Addition();\n",
    "        \n",
    "        // call method with 2 arguments\n",
    "        obj.add(5, 1);\n",
    "        \n",
    "        // call method with 3 arguments\n",
    "        obj.add(9, 11, 6);\n",
    "    }\n",
    "}\n",
    "\n",
    "// Sum of 2 digits: 6\n",
    "// Sum of 3 digits: 26"
   ]
  },
  {
   "cell_type": "markdown",
   "metadata": {},
   "source": [
    "Trong ví dụ trên, chúng ta đã nạp chồng phương thức add() với 2 và 3 tham số."
   ]
  },
  {
   "cell_type": "markdown",
   "metadata": {},
   "source": [
    "#### **Nạp chồng phương thức với các kiểu tham số khác nhau**"
   ]
  },
  {
   "cell_type": "code",
   "execution_count": null,
   "metadata": {
    "vscode": {
     "languageId": "java"
    }
   },
   "outputs": [],
   "source": [
    "class Addition {\n",
    "    \n",
    "    // method with integer parameters\n",
    "    int add(int number1, int number2) {\n",
    "        int sum = number1 + number2;\n",
    "        return sum;\n",
    "    }\n",
    "    \n",
    "    // method with double parameters\n",
    "    double add(double number1, double number2) {\n",
    "        double sum = number1 + number2;\n",
    "        return sum;\n",
    "    }\n",
    "}\n",
    " \n",
    "class Main {\n",
    "    public static void main(String[] args) {\n",
    "        \n",
    "        Addition obj = new Addition();\n",
    "        \n",
    "        // call method with integer arguments\n",
    "        int sum1 = obj.add(12, 9);\n",
    "        System.out.println(\"Sum of integers: \" + sum1);\n",
    "        \n",
    "        // call method with double arguments\n",
    "        double sum2 = obj.add(32.8, 11.6);\n",
    "        System.out.println(\"Sum of doubles: \" + sum2);\n",
    "    }\n",
    "}\n",
    "\n",
    "// Sum of integers: 21\n",
    "// Sum of doubles: 44.4"
   ]
  },
  {
   "attachments": {
    "image.png": {
     "image/png": "[encoded data removed]"
    }
   },
   "cell_type": "markdown",
   "metadata": {},
   "source": [
    "![ ](attachment:image.png) \n",
    "Warning\n",
    "\n",
    "**Kiểu trả về của các phương thức không giống nhau**. Đó là bởi vì **nạp chồng phương thức chỉ được liên kết với các tham số**, không phải kiểu trả về và các phương thức được nạp chồng có thể có kiểu trả về giống hoặc khác nhau.\n",
    "\n",
    "Trong ví dụ này, chúng ta cũng sử dụng cùng một phương thức cho hai mục đích khác nhau, do đó đạt được tính đa hình.\n",
    "\n",
    "----"
   ]
  },
  {
   "cell_type": "code",
   "execution_count": null,
   "metadata": {
    "vscode": {
     "languageId": "java"
    }
   },
   "outputs": [],
   "source": [
    "class Addition {\n",
    "\n",
    "    // method with void return type\n",
    "    public void add(int a, int b) {\n",
    "        System.out.println(a + b);\n",
    "    }\n",
    "  \n",
    "    // method with int return type\n",
    "    public int add(int a, int b) {\n",
    "        return a + b;\n",
    "    }\n",
    "}"
   ]
  },
  {
   "cell_type": "markdown",
   "metadata": {},
   "source": [
    "Như đã đề cập trước đó, nạp chồng phương thức **chỉ liên quan đến số lượng và kiểu của tham số**, **không phải kiểu trả về**. Đây không phải là nạp chồng phương thức vì cả hai phương thức đều có cùng tham số.\n",
    "\n",
    "Do đó, đoạn code trên sẽ bị lỗi."
   ]
  }
 ],
 "metadata": {
  "language_info": {
   "name": "python"
  },
  "orig_nbformat": 4
 },
 "nbformat": 4,
 "nbformat_minor": 2
}
