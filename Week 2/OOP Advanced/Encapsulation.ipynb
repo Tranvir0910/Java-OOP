{
 "cells": [
  {
   "cell_type": "markdown",
   "metadata": {},
   "source": [
    "## **Encapsulation**"
   ]
  },
  {
   "cell_type": "markdown",
   "metadata": {},
   "source": [
    "Đóng gói có nghĩa là gộp các trường và phương thức lại với nhau bên trong một lớp."
   ]
  },
  {
   "cell_type": "markdown",
   "metadata": {},
   "source": [
    "Giả sử ta cần tính diện tích hình chữ nhật. Để tính diện tích, chúng ta cần hai dữ liệu (trường) length và breadth và một phương thức **calculateArea()**."
   ]
  },
  {
   "cell_type": "markdown",
   "metadata": {},
   "source": [
    "Do đó, chúng ta có thể gộp các trường này và phương thức lại với nhau bên trong một lớp."
   ]
  },
  {
   "cell_type": "code",
   "execution_count": null,
   "metadata": {
    "vscode": {
     "languageId": "java"
    }
   },
   "outputs": [],
   "source": [
    "class Rectangle {\n",
    "\n",
    "    // fields to calculate area\n",
    "    int length;\n",
    "    int breadth;\n",
    "\n",
    "    // method to calculate area\n",
    "    public void calculateArea() {\n",
    "        int area = length * breadth;\n",
    "        System.out.println(\"Area: \" + area);\n",
    "    }\n",
    "}"
   ]
  },
  {
   "cell_type": "markdown",
   "metadata": {},
   "source": [
    "### **Example**"
   ]
  },
  {
   "cell_type": "code",
   "execution_count": null,
   "metadata": {
    "vscode": {
     "languageId": "java"
    }
   },
   "outputs": [],
   "source": [
    "class Rectangle {\n",
    " \n",
    "    // fields to calculate area\n",
    "    int length;\n",
    "    int breadth;\n",
    " \n",
    "    // constructor to initialize length/breadth\n",
    "    Rectangle(int length, int breadth) {\n",
    "        this.length = length;\n",
    "        this.breadth = breadth;\n",
    "    }\n",
    " \n",
    "    // method to calculate area\n",
    "    public void calculateArea() {\n",
    "        int area = length * breadth;\n",
    "        System.out.println(\"Area: \" + area);\n",
    "    }\n",
    "}\n",
    " \n",
    "class Main {\n",
    "    public static void main(String[] args) {\n",
    "        \n",
    "        // initialize value of length and breadth\n",
    "        Rectangle obj = new Rectangle(12, 9);\n",
    " \n",
    "        // calculate the area\n",
    "        obj.calculateArea(); \n",
    "    }\n",
    "}\n",
    " \n",
    "// Output:\n",
    "// Area: 108"
   ]
  },
  {
   "cell_type": "markdown",
   "metadata": {},
   "source": [
    "Trong ví dụ trên, chúng ta đã sử dụng **Constructor** để khởi tạo giá trị **length** và **breadth**."
   ]
  },
  {
   "cell_type": "code",
   "execution_count": null,
   "metadata": {
    "vscode": {
     "languageId": "java"
    }
   },
   "outputs": [],
   "source": [
    "Rectangle(int length, int breadth) {\n",
    "    this.length = length;\n",
    "    this.breadth = breadth;\n",
    "}"
   ]
  },
  {
   "cell_type": "markdown",
   "metadata": {},
   "source": [
    "**this** tham chiếu đến đối tượng hiện tại, trong trường hợp này là **obj**."
   ]
  },
  {
   "cell_type": "markdown",
   "metadata": {},
   "source": [
    "phương thức **computeArea()** sử dụng các trường **length** và **breadth** để tính diện tích hình chữ nhật. Cả hai trường này đều xuất hiện trong cùng một lớp."
   ]
  },
  {
   "cell_type": "markdown",
   "metadata": {},
   "source": [
    "Đóng gói là kết hợp các dữ liệu và phương thức liên quan lại với nhau."
   ]
  },
  {
   "cell_type": "markdown",
   "metadata": {},
   "source": [
    "### **Hide Data**"
   ]
  },
  {
   "cell_type": "markdown",
   "metadata": {},
   "source": [
    "Trong Java, **ẩn dữ liệu ngăn việc truy cập các trường và phương thức của một lớp từ các lớp khác**. Đó là một trong những lợi ích quan trọng của tính đóng gói."
   ]
  },
  {
   "cell_type": "markdown",
   "metadata": {},
   "source": [
    "Trong ví dụ trước, để tính diện tích hình chữ nhật, chúng ta có thể đặt cả trường **length** và **breadth** ở **phạm vi private**."
   ]
  },
  {
   "cell_type": "code",
   "execution_count": null,
   "metadata": {
    "vscode": {
     "languageId": "java"
    }
   },
   "outputs": [],
   "source": [
    "class Rectangle {\n",
    " \n",
    "    // fields to calculate area\n",
    "    private int length;\n",
    "    private int breadth;\n",
    "}"
   ]
  },
  {
   "cell_type": "markdown",
   "metadata": {},
   "source": [
    "Bây giờ, các trường này không thể được truy cập từ lớp khác. \n",
    "\n",
    "Để khởi tạo giá trị cho các trường này, chúng ta cần sử dụng các phương thức getter và setter."
   ]
  },
  {
   "cell_type": "code",
   "execution_count": null,
   "metadata": {
    "vscode": {
     "languageId": "java"
    }
   },
   "outputs": [],
   "source": [
    "class Rectangle {\n",
    " \n",
    "    // fields to calculate area\n",
    "    private int length;\n",
    "    private int breadth;\n",
    " \n",
    "    // method to initialize value of length\n",
    "    public void setLength(int length) {\n",
    "        this.length = length;\n",
    "    }\n",
    " \n",
    "    // method to initialize value of breadth\n",
    "    public void setBreadth(int breadth) {\n",
    "        this.breadth = breadth;\n",
    "    }\n",
    " \n",
    "    // method to calculate area\n",
    "    public void calculateArea() {\n",
    "        int area = length * breadth;\n",
    "        System.out.println(\"Area: \" + area);\n",
    "    }\n",
    "}\n",
    " \n",
    "class Main {\n",
    "    public static void main(String[] args) {\n",
    "        \n",
    "        // initialize value of length and breadth\n",
    "        Rectangle obj = new Rectangle();\n",
    " \n",
    "        // initialize the value of length and breadth\n",
    "        obj.setLength(12);\n",
    "        obj.setBreadth(9);\n",
    " \n",
    "        // calculate the area\n",
    "        obj.calculateArea(); \n",
    "    }\n",
    "}\n",
    " \n",
    "// Output:\n",
    "// Area: 108"
   ]
  },
  {
   "cell_type": "markdown",
   "metadata": {},
   "source": [
    "Trong ví dụ trên, ta đã sử dụng các phương thức setter:\n",
    "\n",
    "- **setLength()** - khởi tạo giá trị của trường private length\n",
    "\n",
    "- **setBreadth()** - khởi tạo giá trị của trường private breadth\n",
    "\n",
    "**Lưu ý: Chúng ta không cần truy cập các trường length và breadth nên chưa sử dụng các phương thức getter trong chương trình**."
   ]
  },
  {
   "cell_type": "markdown",
   "metadata": {},
   "source": [
    "Chúng ta đã hạn chế truy cập không được cấp quyền từ bên ngoài lớp.\n",
    "\n",
    "Đây là một ví dụ về Ẩn dữ liệu."
   ]
  },
  {
   "cell_type": "markdown",
   "metadata": {},
   "source": [
    "### **Control of data field values**"
   ]
  },
  {
   "cell_type": "code",
   "execution_count": null,
   "metadata": {
    "vscode": {
     "languageId": "java"
    }
   },
   "outputs": [],
   "source": [
    "import java.util.Scanner;\n",
    " \n",
    "class Person {\n",
    "    private int age;\n",
    " \n",
    "    // method to initialize age\n",
    "    public void setAge(int age) {\n",
    "        if (age > 0 && age < 100) {\n",
    "            this.age = age;\n",
    "        }\n",
    "        else {\n",
    "            System.out.println(\"Invalid Age\");\n",
    "        }\n",
    "    }\n",
    " \n",
    "    // method to access age\n",
    "    public int getAge() {\n",
    "        return this.age;\n",
    "    }\n",
    "}\n",
    " \n",
    "class Main {\n",
    "    public static void main(String[] args) {\n",
    "        \n",
    "        // get input value for age\n",
    "        Scanner input = new Scanner(System.in);\n",
    "        System.out.println(\"Enter your age: \");\n",
    "        int age = input.nextInt();\n",
    " \n",
    "        Person obj = new Person();\n",
    " \n",
    "        // initialize the value of age\n",
    "        obj.setAge(age);\n",
    " \n",
    "        // get value of age\n",
    "        System.out.println(\"Age: \" + obj.getAge());\n",
    " \n",
    "        input.close();\n",
    "    }\n",
    "}\n",
    "\n",
    "// Enter your age: \n",
    "// -11\n",
    "// Invalid Age\n",
    "// Age: 0\n",
    "\n",
    "// Enter your age: \n",
    "// 25\n",
    "// Age: 25"
   ]
  }
 ],
 "metadata": {
  "language_info": {
   "name": "python"
  },
  "orig_nbformat": 4
 },
 "nbformat": 4,
 "nbformat_minor": 2
}
