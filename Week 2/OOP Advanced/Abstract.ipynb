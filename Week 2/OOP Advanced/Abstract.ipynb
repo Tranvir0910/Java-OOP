{
 "cells": [
  {
   "cell_type": "markdown",
   "metadata": {},
   "source": [
    "## **Abstract**"
   ]
  },
  {
   "cell_type": "markdown",
   "metadata": {},
   "source": [
    "### **Abstract Method**"
   ]
  },
  {
   "cell_type": "markdown",
   "metadata": {},
   "source": [
    "Trong Java, chúng ta cũng có thể tạo các **phương thức không có phần thân hàm**."
   ]
  },
  {
   "cell_type": "markdown",
   "metadata": {},
   "source": [
    "Sử dụng từ khóa **abstract** để tạo các **phương thức trừu tượng**."
   ]
  },
  {
   "cell_type": "code",
   "execution_count": null,
   "metadata": {
    "vscode": {
     "languageId": "java"
    }
   },
   "outputs": [],
   "source": [
    "abstract void makeSound();"
   ]
  },
  {
   "cell_type": "markdown",
   "metadata": {},
   "source": [
    "**makeSound()** là một phương thức trừu tượng. \n",
    "\n",
    "Phần thân của phương thức trừu tượng được thay thế bằng **\";\"**"
   ]
  },
  {
   "cell_type": "markdown",
   "metadata": {},
   "source": [
    "### **Abstract Class**"
   ]
  },
  {
   "cell_type": "markdown",
   "metadata": {},
   "source": [
    "Trong Java, chúng ta cũng có thể tạo lớp trừu tượng. Không giống như lớp thông thường, chúng ta **không thể tạo các đối tượng của lớp trừu tượng**."
   ]
  },
  {
   "cell_type": "code",
   "execution_count": null,
   "metadata": {
    "vscode": {
     "languageId": "java"
    }
   },
   "outputs": [],
   "source": [
    "abstract class Polygon {\n",
    "    // code inside the class\n",
    "}\n",
    " \n",
    "class Main {\n",
    "    public static void main(String[] args) {\n",
    "        \n",
    "        // create object of Polygon\n",
    "        Polygon obj = new Polygon();\n",
    "    }\n",
    "}"
   ]
  },
  {
   "cell_type": "code",
   "execution_count": null,
   "metadata": {
    "vscode": {
     "languageId": "powershell"
    }
   },
   "outputs": [],
   "source": [
    "error: Polygon is abstract; cannot be instantiated\n",
    "Polygon obj = new Polygon();\n",
    "                      ^"
   ]
  },
  {
   "cell_type": "markdown",
   "metadata": {},
   "source": [
    "### **Methods inside Abstract Class**"
   ]
  },
  {
   "cell_type": "markdown",
   "metadata": {},
   "source": [
    "Cũng giống như lớp thông thường, lớp trừu tượng có thể có cả phương thức trừu tượng và không trừu tượng."
   ]
  },
  {
   "cell_type": "code",
   "execution_count": null,
   "metadata": {
    "vscode": {
     "languageId": "java"
    }
   },
   "outputs": [],
   "source": [
    "abstract class Polygon {\n",
    "\n",
    "    // abstract method \n",
    "    abstract void getArea();\n",
    "\n",
    "    // non-abstract method\n",
    "    public void printSides() {\n",
    "        System.out.println(\"Print sides of Polygon.\");\n",
    "    }\n",
    "}"
   ]
  },
  {
   "cell_type": "markdown",
   "metadata": {},
   "source": [
    "- một phương thức trừu tượng tên là **getArea()**\n",
    "\n",
    "- một phương thức không trừu tượng tên là **printSides()**"
   ]
  },
  {
   "cell_type": "markdown",
   "metadata": {},
   "source": [
    "### **Use Abstract Classes and Methods**"
   ]
  },
  {
   "cell_type": "markdown",
   "metadata": {},
   "source": [
    "Trong Java, chúng ta phải kế thừa lớp trừu tượng để sử dụng nó."
   ]
  },
  {
   "cell_type": "code",
   "execution_count": null,
   "metadata": {
    "vscode": {
     "languageId": "java"
    }
   },
   "outputs": [],
   "source": [
    "abstract class Polygon {\n",
    "\n",
    "    // abstract method \n",
    "    abstract void getArea();\n",
    "\n",
    "    // non-abstract method\n",
    "    public void printSides() {\n",
    "        System.out.println(\"Print sides of Polygon.\");\n",
    "    }\n",
    "}\n",
    "\n",
    "class Rectangle extends Polygon {\n",
    "\n",
    "}"
   ]
  },
  {
   "cell_type": "markdown",
   "metadata": {},
   "source": [
    "Bây giờ lớp **Rectangle** kế thừa cả phương thức trừu tượng và không trừu tượng."
   ]
  },
  {
   "cell_type": "markdown",
   "metadata": {},
   "source": [
    "- Để thay đổi lớp trừu tượng thành lớp không trừu tượng, các **lớp con phải cung cấp triển khai của tất cả các phương thức trừu tượng**. \n",
    "\n",
    "- Nếu bạn không cung cấp triển khai, chương trình sẽ báo lỗi."
   ]
  },
  {
   "cell_type": "markdown",
   "metadata": {},
   "source": [
    "### **Example**"
   ]
  },
  {
   "cell_type": "code",
   "execution_count": null,
   "metadata": {
    "vscode": {
     "languageId": "java"
    }
   },
   "outputs": [],
   "source": [
    "abstract class Polygon {\n",
    " \n",
    "    // abstract method \n",
    "    abstract void getArea();\n",
    " \n",
    "    // non-abstract method\n",
    "    public void printSides() {\n",
    "        System.out.println(\"Print sides of Polygon.\");\n",
    "    }\n",
    "}\n",
    " \n",
    "class Rectangle extends Polygon {\n",
    "    \n",
    "    // implementation of abstract method\n",
    "    void getArea() {\n",
    "        System.out.println(\"Print the area of Polygon.\");\n",
    "    }\n",
    "}\n",
    " \n",
    "class Main {\n",
    "    public static void main(String[] args) {\n",
    "        \n",
    "        // create object of the child class\n",
    "        Rectangle rectangle1 = new Rectangle();\n",
    "        \n",
    "        // access the non-abstract method\n",
    "        rectangle1.printSides();\n",
    "        \n",
    "        // access the implemented abstract method\n",
    "        rectangle1.getArea();\n",
    "    }\n",
    "}"
   ]
  },
  {
   "cell_type": "code",
   "execution_count": null,
   "metadata": {
    "vscode": {
     "languageId": "powershell"
    }
   },
   "outputs": [],
   "source": [
    "Print sides of Polygon.\n",
    "Print the area of Polygon."
   ]
  }
 ],
 "metadata": {
  "language_info": {
   "name": "python"
  },
  "orig_nbformat": 4
 },
 "nbformat": 4,
 "nbformat_minor": 2
}
