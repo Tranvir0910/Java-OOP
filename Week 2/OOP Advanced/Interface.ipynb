{
 "cells": [
  {
   "cell_type": "markdown",
   "metadata": {},
   "source": [
    "## **Interface**"
   ]
  },
  {
   "cell_type": "markdown",
   "metadata": {},
   "source": [
    "Trong Java, chúng ta cũng có thể tạo **một lớp hoàn toàn trừu tượng** gọi là **interface**. \n",
    "\n",
    "Một interface chỉ chứa các phương thức trừu tượng."
   ]
  },
  {
   "cell_type": "markdown",
   "metadata": {},
   "source": [
    "### **Create Interface**"
   ]
  },
  {
   "cell_type": "code",
   "execution_count": null,
   "metadata": {
    "vscode": {
     "languageId": "java"
    }
   },
   "outputs": [],
   "source": [
    "interface Animal {\n",
    "    …\n",
    "}"
   ]
  },
  {
   "cell_type": "code",
   "execution_count": null,
   "metadata": {
    "vscode": {
     "languageId": "java"
    }
   },
   "outputs": [],
   "source": [
    "interface Animal {\n",
    "\n",
    "    abstract public void play(); \n",
    "    abstract public void makeSound();\n",
    "}"
   ]
  },
  {
   "cell_type": "markdown",
   "metadata": {},
   "source": [
    "**play()** và **makeSound()** là hai phương thức trừu tượng bên trong interface Animal."
   ]
  },
  {
   "cell_type": "markdown",
   "metadata": {},
   "source": [
    "### **Implement Interface**"
   ]
  },
  {
   "cell_type": "markdown",
   "metadata": {},
   "source": [
    "Ta sử dụng từ khóa **implements** để triển khai interface."
   ]
  },
  {
   "cell_type": "code",
   "execution_count": null,
   "metadata": {
    "vscode": {
     "languageId": "java"
    }
   },
   "outputs": [],
   "source": [
    "interface Animal {\n",
    " \n",
    "    abstract public void play(); \n",
    "    abstract public void makeSound();\n",
    "}\n",
    " \n",
    "class Dog implements Animal {\n",
    " \n",
    "    // implement play()\n",
    "    public void play() {\n",
    "        System.out.println(\"I play ball fetch\");\n",
    "    }\n",
    " \n",
    "    // implement makeSound()\n",
    "    public void makeSound() {\n",
    "        System.out.println(\"Woof Woof\");\n",
    "    }\n",
    "}"
   ]
  },
  {
   "cell_type": "markdown",
   "metadata": {},
   "source": [
    "**Lớp Dog triển khai interface Animal**. Bạn có thể thấy triển khai của hai phương thức trừu tượng **play()** và **makeSound()** được cung cấp bởi lớp Dog."
   ]
  },
  {
   "cell_type": "markdown",
   "metadata": {},
   "source": [
    "Chúng ta có thể truy cập các phương thức này bằng cách sử dụng các đối tượng của Dog."
   ]
  },
  {
   "cell_type": "code",
   "execution_count": null,
   "metadata": {
    "vscode": {
     "languageId": "java"
    }
   },
   "outputs": [],
   "source": [
    "interface Animal {\n",
    "    abstract public void play();\n",
    "    abstract public void makeSound();\n",
    " }\n",
    " class Dog implements Animal {\n",
    "    // implement play()\n",
    "    public void play() {\n",
    "        System.out.println(\"I play ball fetch\");\n",
    "    }\n",
    "    // implement makeSound()\n",
    "    public void makeSound() {\n",
    "        System.out.println(\"Woof Woof\");\n",
    "    }\n",
    " }\n",
    " class Main {\n",
    "    public static void main(String[] args) {\n",
    "       \n",
    "        // object of Dog\n",
    "        Dog dog = new Dog();\n",
    "       \n",
    "        // access abstract methods\n",
    "        dog.play();\n",
    "        dog.makeSound();\n",
    "    }\n",
    " }\n",
    " "
   ]
  },
  {
   "cell_type": "code",
   "execution_count": null,
   "metadata": {
    "vscode": {
     "languageId": "powershell"
    }
   },
   "outputs": [],
   "source": [
    "I play ball fetch\n",
    "Woof Woof"
   ]
  },
  {
   "cell_type": "markdown",
   "metadata": {},
   "source": [
    "### **Example**"
   ]
  },
  {
   "cell_type": "code",
   "execution_count": null,
   "metadata": {
    "vscode": {
     "languageId": "java"
    }
   },
   "outputs": [],
   "source": [
    "import java.util.Scanner;\n",
    " \n",
    "interface Polygon {\n",
    "    // abstract method \n",
    "    abstract public void getArea(int length, int breadth);\n",
    "}\n",
    " \n",
    "class Rectangle implements Polygon {\n",
    "    \n",
    "    // implement abstract method\n",
    "    public void getArea(int length, int breadth) {\n",
    "        int area = length * breadth;\n",
    "        System.out.println(\"Area: \" + area);\n",
    "    }\n",
    "}\n",
    " \n",
    "class Main {\n",
    "    public static void main(String[] args) {\n",
    "        \n",
    "        Rectangle rect1 = new Rectangle();\n",
    "        \n",
    "        // get length and breadth input for rectangle\n",
    "        System.out.println(\"Enter length and breadth:\");\n",
    "        Scanner input = new Scanner(System.in);\n",
    "        int length = input.nextInt();\n",
    "        int breadth = input.nextInt();\n",
    "        \n",
    "        // find the area of rectangle\n",
    "        rect1.getArea(length, breadth);\n",
    "    }\n",
    "}\n",
    "\n",
    "// OUTPUT\n",
    "// Enter length and breadth:\n",
    "// 12 \n",
    "// 8\n",
    "// Area: 96"
   ]
  },
  {
   "cell_type": "code",
   "execution_count": null,
   "metadata": {
    "vscode": {
     "languageId": "java"
    }
   },
   "outputs": [],
   "source": [
    "interface MotorBike {\n",
    "    abstract void brake();\n",
    "}\n",
    " \n",
    "class SportsBike implements MotorBike {\n",
    " \n",
    "    // implement the abstract method\n",
    "    public void brake() {\n",
    "        System.out.println(\"Working of brake on Sports Bikes\");\n",
    "        System.out.println(\"Stopping Sports Bikes\");\n",
    "    }\n",
    "}\n",
    " \n",
    "class MountainBike implements MotorBike {\n",
    " \n",
    "    // implement the abstract method\n",
    "    public void brake() {\n",
    "        System.out.println(\"Working of brake on Mountain Bikes\");\n",
    "        System.out.println(\"Stopping Mountain Bikes\");\n",
    "    }\n",
    "}\n",
    " \n",
    "class Main {\n",
    "    public static void main(String[] args) {\n",
    "        \n",
    "        // access brake of SportsBike\n",
    "        SportsBike s1 = new SportsBike();\n",
    "        s1.brake();\n",
    " \n",
    "        // access brake of MountainBike\n",
    "        MountainBike m1 = new MountainBike();\n",
    "        m1.brake();\n",
    "    }\n",
    "}\n",
    "\n",
    "// Working of brake on Sports Bikes\n",
    "// Stopping Sports Bikes\n",
    "// Working of brake on Mountain Bikes\n",
    "// Stopping Mountain Bikes"
   ]
  }
 ],
 "metadata": {
  "language_info": {
   "name": "python"
  },
  "orig_nbformat": 4
 },
 "nbformat": 4,
 "nbformat_minor": 2
}
